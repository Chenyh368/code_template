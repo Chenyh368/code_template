{
 "cells": [
  {
   "cell_type": "code",
   "execution_count": null,
   "metadata": {
    "collapsed": true
   },
   "outputs": [],
   "source": [
    "# Setting notebook to current work dir\n",
    "import os\n",
    "import torch\n",
    "os.chdir(\"/import/home2/yhchenmath/Code/DiffusionModel\")\n",
    "from utils.experiman import ExperiMan\n",
    "from options import Options, HParams"
   ]
  },
  {
   "cell_type": "code",
   "execution_count": null,
   "outputs": [],
   "source": [
    "manager = ExperiMan(name='default')\n",
    "parser = manager.get_basic_arg_parser()\n",
    "parser.set_defaults(seed=0)\n",
    "parser.set_defaults(run_name=\"TestDDP\")\n",
    "parser.set_defaults(gpu=\"4,5,6\")\n",
    "opt = Options(parser).parse()  # get training options\n",
    "# Tensorboard obj can not be a para in mp\n",
    "manager.setup(opt)\n",
    "opt = HParams(**vars(opt))"
   ],
   "metadata": {
    "collapsed": false
   }
  }
 ],
 "metadata": {
  "kernelspec": {
   "display_name": "Python 3",
   "language": "python",
   "name": "python3"
  },
  "language_info": {
   "codemirror_mode": {
    "name": "ipython",
    "version": 2
   },
   "file_extension": ".py",
   "mimetype": "text/x-python",
   "name": "python",
   "nbconvert_exporter": "python",
   "pygments_lexer": "ipython2",
   "version": "2.7.6"
  }
 },
 "nbformat": 4,
 "nbformat_minor": 0
}
